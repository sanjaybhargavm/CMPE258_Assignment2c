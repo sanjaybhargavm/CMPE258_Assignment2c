{
  "nbformat": 4,
  "nbformat_minor": 0,
  "metadata": {
    "colab": {
      "provenance": []
    },
    "kernelspec": {
      "name": "python3",
      "display_name": "Python 3"
    },
    "language_info": {
      "name": "python"
    }
  },
  "cells": [
    {
      "cell_type": "markdown",
      "source": [
        "Importing libraries"
      ],
      "metadata": {
        "id": "ei8lTvfuUtzl"
      }
    },
    {
      "cell_type": "code",
      "execution_count": 2,
      "metadata": {
        "id": "EZyz0aqDTskj"
      },
      "outputs": [],
      "source": [
        "import numpy as np\n",
        "import tensorflow as tf\n",
        "import tensorflow.keras.backend as K\n",
        "import torch"
      ]
    },
    {
      "cell_type": "markdown",
      "source": [
        "Broadcasting in tensorflow"
      ],
      "metadata": {
        "id": "XZmkeNt7Kj1R"
      }
    },
    {
      "cell_type": "code",
      "source": [
        "a = tf.constant([4,5,6])\n",
        "b = tf.constant(2)\n",
        "c = tf.constant([3, 3, 3])\n",
        "\n",
        "print(tf.multiply(a, 2))\n",
        "print(a * b)\n",
        "print(a * c)"
      ],
      "metadata": {
        "id": "j5836fJyUyjN",
        "colab": {
          "base_uri": "https://localhost:8080/"
        },
        "outputId": "480be792-c3c7-4fe6-d5d7-abf676a278af"
      },
      "execution_count": 3,
      "outputs": [
        {
          "output_type": "stream",
          "name": "stdout",
          "text": [
            "tf.Tensor([ 8 10 12], shape=(3,), dtype=int32)\n",
            "tf.Tensor([ 8 10 12], shape=(3,), dtype=int32)\n",
            "tf.Tensor([12 15 18], shape=(3,), dtype=int32)\n"
          ]
        }
      ]
    },
    {
      "cell_type": "code",
      "source": [
        "a = tf.constant([2,4,6,7])\n",
        "b = tf.constant([1,2,3,4])\n",
        "print(tf.add(a,b)) \n"
      ],
      "metadata": {
        "id": "AA7wJeQrUyly",
        "colab": {
          "base_uri": "https://localhost:8080/"
        },
        "outputId": "6a0fb383-4946-42d9-c925-2fca6fd74a15"
      },
      "execution_count": 4,
      "outputs": [
        {
          "output_type": "stream",
          "name": "stdout",
          "text": [
            "tf.Tensor([ 3  6  9 11], shape=(4,), dtype=int32)\n"
          ]
        }
      ]
    },
    {
      "cell_type": "markdown",
      "source": [
        "String tensors using tensorflow"
      ],
      "metadata": {
        "id": "IUzoNa_UK8X0"
      }
    },
    {
      "cell_type": "code",
      "source": [
        "aa = tf.constant(\"CMPE 258\")\n",
        "print(aa)"
      ],
      "metadata": {
        "id": "z6LIucemUyoN",
        "colab": {
          "base_uri": "https://localhost:8080/"
        },
        "outputId": "be74dc05-4846-4962-d937-70029979749a"
      },
      "execution_count": 8,
      "outputs": [
        {
          "output_type": "stream",
          "name": "stdout",
          "text": [
            "tf.Tensor(b'CMPE 258', shape=(), dtype=string)\n"
          ]
        }
      ]
    },
    {
      "cell_type": "code",
      "source": [
        "bb = tf.constant([\"CMPE 258\",\"Deep Learning\",\"Artificial Intelligence\"])\n",
        "\n",
        "print(bb)"
      ],
      "metadata": {
        "id": "5U2FQC7BUyqf",
        "colab": {
          "base_uri": "https://localhost:8080/"
        },
        "outputId": "48ee2191-fee2-4a2d-ae9d-4d9f3e4713c8"
      },
      "execution_count": 9,
      "outputs": [
        {
          "output_type": "stream",
          "name": "stdout",
          "text": [
            "tf.Tensor([b'CMPE 258' b'Deep Learning' b'Artificial Intelligence'], shape=(3,), dtype=string)\n"
          ]
        }
      ]
    },
    {
      "cell_type": "code",
      "source": [
        "print(tf.strings.split(aa, sep=\" \"))"
      ],
      "metadata": {
        "colab": {
          "base_uri": "https://localhost:8080/"
        },
        "id": "2K8Kf6qTLgT_",
        "outputId": "b6b36702-035e-4ea1-c1d1-85f63b96fb5c"
      },
      "execution_count": 10,
      "outputs": [
        {
          "output_type": "stream",
          "name": "stdout",
          "text": [
            "tf.Tensor([b'CMPE' b'258'], shape=(2,), dtype=string)\n"
          ]
        }
      ]
    },
    {
      "cell_type": "code",
      "source": [
        "print(tf.strings.split(bb))"
      ],
      "metadata": {
        "colab": {
          "base_uri": "https://localhost:8080/"
        },
        "id": "eHBTJSPHLmKJ",
        "outputId": "e0b98655-83de-420e-b337-237497192038"
      },
      "execution_count": 11,
      "outputs": [
        {
          "output_type": "stream",
          "name": "stdout",
          "text": [
            "<tf.RaggedTensor [[b'CMPE', b'258'],\n",
            " [b'Deep', b'Learning'],\n",
            " [b'Artificial', b'Intelligence']]>\n"
          ]
        }
      ]
    },
    {
      "cell_type": "markdown",
      "source": [
        "Sparse Tensors using tensorflow"
      ],
      "metadata": {
        "id": "zky2iPLaLqFC"
      }
    },
    {
      "cell_type": "code",
      "source": [
        "sparse_tensor = tf.sparse.SparseTensor(indices=[[0, 0], [1, 2]],\n",
        "                                       values=[1, 2],\n",
        "                                       dense_shape=[3, 4])\n",
        "print(sparse_tensor, \"\\n\")\n",
        "\n",
        "print(tf.sparse.to_dense(sparse_tensor))"
      ],
      "metadata": {
        "colab": {
          "base_uri": "https://localhost:8080/"
        },
        "id": "RbpD8WioLsbh",
        "outputId": "863fb42d-9918-4aac-83b0-72c2e3573ae7"
      },
      "execution_count": 12,
      "outputs": [
        {
          "output_type": "stream",
          "name": "stdout",
          "text": [
            "SparseTensor(indices=tf.Tensor(\n",
            "[[0 0]\n",
            " [1 2]], shape=(2, 2), dtype=int64), values=tf.Tensor([1 2], shape=(2,), dtype=int32), dense_shape=tf.Tensor([3 4], shape=(2,), dtype=int64)) \n",
            "\n",
            "tf.Tensor(\n",
            "[[1 0 0 0]\n",
            " [0 0 2 0]\n",
            " [0 0 0 0]], shape=(3, 4), dtype=int32)\n"
          ]
        }
      ]
    },
    {
      "cell_type": "markdown",
      "source": [
        "Ragged Tensors using tensorflow"
      ],
      "metadata": {
        "id": "My2CDrQYLxKL"
      }
    },
    {
      "cell_type": "code",
      "source": [
        "l = [\n",
        "    [0, 1, 2, 3],\n",
        "    [4, 5],\n",
        "    [6, 7, 8],\n",
        "    [9]]"
      ],
      "metadata": {
        "id": "03ccrn6ALseT"
      },
      "execution_count": 13,
      "outputs": []
    },
    {
      "cell_type": "code",
      "source": [
        "ragged_tensor = tf.ragged.constant(l)\n",
        "print(ragged_tensor)"
      ],
      "metadata": {
        "colab": {
          "base_uri": "https://localhost:8080/"
        },
        "id": "RrTyosrvL1sg",
        "outputId": "62dffd9c-65a3-417a-e818-1f27b2b2c787"
      },
      "execution_count": 14,
      "outputs": [
        {
          "output_type": "stream",
          "name": "stdout",
          "text": [
            "<tf.RaggedTensor [[0, 1, 2, 3], [4, 5], [6, 7, 8], [9]]>\n"
          ]
        }
      ]
    },
    {
      "cell_type": "code",
      "source": [
        "ragged_tensor.shape"
      ],
      "metadata": {
        "colab": {
          "base_uri": "https://localhost:8080/"
        },
        "id": "oHh5VjxNL7IN",
        "outputId": "eb61bd56-70d2-4622-e94e-4607fa5fdfbe"
      },
      "execution_count": 15,
      "outputs": [
        {
          "output_type": "execute_result",
          "data": {
            "text/plain": [
              "TensorShape([4, None])"
            ]
          },
          "metadata": {},
          "execution_count": 15
        }
      ]
    },
    {
      "cell_type": "markdown",
      "source": [
        "Broadcasting using torch"
      ],
      "metadata": {
        "id": "swFHd_f7MRq4"
      }
    },
    {
      "cell_type": "code",
      "source": [
        "x = torch.tensor([4,5,6])\n",
        "y = torch.tensor(2)\n",
        "z = torch.tensor([3, 3, 3])\n",
        " \n",
        "\n",
        "print(torch.mul(x, 2))\n",
        "print(x * y)\n",
        "print(x * z)"
      ],
      "metadata": {
        "colab": {
          "base_uri": "https://localhost:8080/"
        },
        "id": "X6EOzTkxMToU",
        "outputId": "57e7f25a-5025-49bf-f3f9-85cbaf473504"
      },
      "execution_count": 19,
      "outputs": [
        {
          "output_type": "stream",
          "name": "stdout",
          "text": [
            "tensor([ 8, 10, 12])\n",
            "tensor([ 8, 10, 12])\n",
            "tensor([12, 15, 18])\n"
          ]
        }
      ]
    },
    {
      "cell_type": "code",
      "source": [
        "a = torch.tensor([2,4,6,7])\n",
        "b = torch.tensor([1,2,3,4])\n",
        "print(torch.add(a,b)) "
      ],
      "metadata": {
        "colab": {
          "base_uri": "https://localhost:8080/"
        },
        "id": "zJ38Og4DMWrG",
        "outputId": "790b5e9a-00c9-4970-f628-698a1da02004"
      },
      "execution_count": 20,
      "outputs": [
        {
          "output_type": "stream",
          "name": "stdout",
          "text": [
            "tensor([ 3,  6,  9, 11])\n"
          ]
        }
      ]
    },
    {
      "cell_type": "markdown",
      "source": [
        "String Tensors using torch"
      ],
      "metadata": {
        "id": "WrcqRlldMY3_"
      }
    },
    {
      "cell_type": "code",
      "source": [
        "string = \"CMPE 258\"\n",
        "ascii_codes = [ord(c) for c in string]\n",
        "print(torch.tensor(ascii_codes))"
      ],
      "metadata": {
        "colab": {
          "base_uri": "https://localhost:8080/"
        },
        "id": "uO7loc9MMczB",
        "outputId": "1cac1279-3cfd-4690-efcf-e93609ed071d"
      },
      "execution_count": 21,
      "outputs": [
        {
          "output_type": "stream",
          "name": "stdout",
          "text": [
            "tensor([67, 77, 80, 69, 32, 50, 53, 56])\n"
          ]
        }
      ]
    },
    {
      "cell_type": "code",
      "source": [
        "s = torch.tensor(3)\n",
        "\n",
        "v = \"5\"\n",
        "n = int(v)\n",
        "\n",
        "st = torch.tensor(n)\n",
        "print(st)"
      ],
      "metadata": {
        "colab": {
          "base_uri": "https://localhost:8080/"
        },
        "id": "M-A-6LnbMnoC",
        "outputId": "6e8398ff-1ef5-4173-dd15-062cd232ae8f"
      },
      "execution_count": 23,
      "outputs": [
        {
          "output_type": "stream",
          "name": "stdout",
          "text": [
            "tensor(5)\n"
          ]
        }
      ]
    },
    {
      "cell_type": "markdown",
      "source": [
        "Sparse Tensor using torch"
      ],
      "metadata": {
        "id": "OQfsybaQMbUP"
      }
    },
    {
      "cell_type": "code",
      "source": [
        "indices = torch.tensor([[0, 1], [1, 2], [2, 0]])\n",
        "values = torch.tensor([1, 2, 3])\n",
        "\n",
        "sparse_tensor = torch.sparse_coo_tensor(indices.t(), values, size=(3, 3))\n",
        "\n",
        "print(sparse_tensor)\n",
        "\n",
        "print(sparse_tensor[1, 2])"
      ],
      "metadata": {
        "colab": {
          "base_uri": "https://localhost:8080/"
        },
        "id": "gc1E-dh3M1kk",
        "outputId": "534227da-ee81-4d2a-e5d1-8b1fc2463901"
      },
      "execution_count": 24,
      "outputs": [
        {
          "output_type": "stream",
          "name": "stdout",
          "text": [
            "tensor(indices=tensor([[0, 1, 2],\n",
            "                       [1, 2, 0]]),\n",
            "       values=tensor([1, 2, 3]),\n",
            "       size=(3, 3), nnz=3, layout=torch.sparse_coo)\n",
            "tensor(2)\n"
          ]
        }
      ]
    },
    {
      "cell_type": "markdown",
      "source": [
        "Ragged Tensor using torch"
      ],
      "metadata": {
        "id": "AidGv4LUM4VZ"
      }
    },
    {
      "cell_type": "code",
      "source": [
        "a, b = torch.arange(3), torch.arange(5) + 3\n",
        "nt = torch.nested.nested_tensor([a, b])\n",
        "print(\"a: \", a)\n",
        "print(\"b: \", b)\n",
        "print(\"nested tensor: \", nt)"
      ],
      "metadata": {
        "colab": {
          "base_uri": "https://localhost:8080/"
        },
        "id": "lAWBWXEqM7Xa",
        "outputId": "c76f3bd1-e976-434b-bc91-ff58afd54f4b"
      },
      "execution_count": 25,
      "outputs": [
        {
          "output_type": "stream",
          "name": "stdout",
          "text": [
            "a:  tensor([0, 1, 2])\n",
            "b:  tensor([3, 4, 5, 6, 7])\n",
            "nested tensor:  nested_tensor([\n",
            "  tensor([0, 1, 2]),\n",
            "  tensor([3, 4, 5, 6, 7])\n",
            "])\n"
          ]
        },
        {
          "output_type": "stream",
          "name": "stderr",
          "text": [
            "/usr/local/lib/python3.9/dist-packages/torch/nested/__init__.py:47: UserWarning: The PyTorch API of nested tensors is in prototype stage and will change in the near future. (Triggered internally at ../aten/src/ATen/NestedTensorImpl.cpp:175.)\n",
            "  nt = torch._nested_tensor_from_tensor_list(new_data, dtype, None, device, pin_memory)\n"
          ]
        }
      ]
    },
    {
      "cell_type": "code",
      "source": [
        "nt.dim()"
      ],
      "metadata": {
        "colab": {
          "base_uri": "https://localhost:8080/"
        },
        "id": "HANw4ukZM-e4",
        "outputId": "a1c48734-d4dc-42c0-a9d6-2c0a488769dd"
      },
      "execution_count": 26,
      "outputs": [
        {
          "output_type": "execute_result",
          "data": {
            "text/plain": [
              "2"
            ]
          },
          "metadata": {},
          "execution_count": 26
        }
      ]
    },
    {
      "cell_type": "markdown",
      "source": [
        "Named Tensor using Pytorch"
      ],
      "metadata": {
        "id": "xrYdh64fMBgR"
      }
    },
    {
      "cell_type": "code",
      "source": [
        "torch.zeros(2, 3, names=('N', 'C'))"
      ],
      "metadata": {
        "colab": {
          "base_uri": "https://localhost:8080/"
        },
        "id": "uHdpMc33MIHE",
        "outputId": "e96e9c36-a1b6-4b7e-9740-2d6e1f3687b8"
      },
      "execution_count": 16,
      "outputs": [
        {
          "output_type": "stream",
          "name": "stderr",
          "text": [
            "<ipython-input-16-eb74a8e0f1fd>:1: UserWarning: Named tensors and all their associated APIs are an experimental feature and subject to change. Please do not use them for anything important until they are released as stable. (Triggered internally at ../c10/core/TensorImpl.h:1758.)\n",
            "  torch.zeros(2, 3, names=('N', 'C'))\n"
          ]
        },
        {
          "output_type": "execute_result",
          "data": {
            "text/plain": [
              "tensor([[0., 0., 0.],\n",
              "        [0., 0., 0.]], names=('N', 'C'))"
            ]
          },
          "metadata": {},
          "execution_count": 16
        }
      ]
    },
    {
      "cell_type": "code",
      "source": [
        "imgs = torch.randn(1, 2, 2, 3 , names=('N', 'C', 'H', 'W'))\n",
        "imgs.names"
      ],
      "metadata": {
        "colab": {
          "base_uri": "https://localhost:8080/"
        },
        "id": "E5Fl6yR9MLRr",
        "outputId": "ccc2939f-ac63-4cd6-fefd-9e8ba08cfafd"
      },
      "execution_count": 17,
      "outputs": [
        {
          "output_type": "execute_result",
          "data": {
            "text/plain": [
              "('N', 'C', 'H', 'W')"
            ]
          },
          "metadata": {},
          "execution_count": 17
        }
      ]
    },
    {
      "cell_type": "code",
      "source": [
        "renamed_imgs = imgs.rename(H='height', W='width')\n",
        "renamed_imgs.names"
      ],
      "metadata": {
        "colab": {
          "base_uri": "https://localhost:8080/"
        },
        "id": "3mqRzhzUMPaq",
        "outputId": "50c54453-737c-4c97-b016-1e8d029bf4b5"
      },
      "execution_count": 18,
      "outputs": [
        {
          "output_type": "execute_result",
          "data": {
            "text/plain": [
              "('N', 'C', 'height', 'width')"
            ]
          },
          "metadata": {},
          "execution_count": 18
        }
      ]
    },
    {
      "cell_type": "markdown",
      "source": [
        "Linear search"
      ],
      "metadata": {
        "id": "d0vt49jeNCdC"
      }
    },
    {
      "cell_type": "code",
      "source": [
        "def linear_search(arr, target):\n",
        "    for i in range(len(arr)):\n",
        "        if arr[i] == target:\n",
        "            return i\n",
        "    return -1\n",
        "\n",
        "arr = tf.constant([59, 78, 86, 102, 230, 231, 675, 892])\n",
        "target = tf.constant(102)\n",
        "\n",
        "result = linear_search(arr, target)\n",
        "print(result)"
      ],
      "metadata": {
        "colab": {
          "base_uri": "https://localhost:8080/"
        },
        "id": "aJ5szzm8NQEb",
        "outputId": "18af1760-bd6d-4581-e7ec-c967b3d40110"
      },
      "execution_count": 27,
      "outputs": [
        {
          "output_type": "stream",
          "name": "stdout",
          "text": [
            "3\n"
          ]
        }
      ]
    },
    {
      "cell_type": "markdown",
      "source": [
        "Insertion sort\n"
      ],
      "metadata": {
        "id": "QFe3Bpp1NUwh"
      }
    },
    {
      "cell_type": "code",
      "source": [
        "def insertion_sort(arr):\n",
        "    for i in range(1, len(arr)):\n",
        "        key = arr[i]\n",
        "        j = i - 1\n",
        "        while j >= 0 and arr[j] > key:\n",
        "            arr = tf.tensor_scatter_nd_update(arr, [[j+1]], [arr[j]])\n",
        "            j = j - 1\n",
        "        arr = tf.tensor_scatter_nd_update(arr, [[j+1]], [key])\n",
        "    return arr\n",
        "\n",
        "arr = tf.constant([3, 5, 2, 6, 8, 1])\n",
        "result = insertion_sort(arr)\n",
        "print(result)"
      ],
      "metadata": {
        "colab": {
          "base_uri": "https://localhost:8080/"
        },
        "id": "pJ082FXVNb2g",
        "outputId": "7a927f11-4116-4154-f890-0017afc96513"
      },
      "execution_count": 28,
      "outputs": [
        {
          "output_type": "stream",
          "name": "stdout",
          "text": [
            "tf.Tensor([1 2 3 5 6 8], shape=(6,), dtype=int32)\n"
          ]
        }
      ]
    },
    {
      "cell_type": "markdown",
      "source": [
        "Binary search"
      ],
      "metadata": {
        "id": "mxy4k6eeNaQi"
      }
    },
    {
      "cell_type": "code",
      "source": [
        "def binary_search(arr, target):\n",
        "    low = 0\n",
        "    high = len(arr) - 1\n",
        "    while low <= high:\n",
        "        mid = (low + high) // 2\n",
        "        if arr[mid] == target:\n",
        "            return mid\n",
        "        elif arr[mid] < target:\n",
        "            low = mid + 1\n",
        "        else:\n",
        "            high = mid - 1\n",
        "    return -1\n",
        "\n",
        "arr = tf.constant([1, 2, 3, 4, 5])\n",
        "target = tf.constant(4)\n",
        "\n",
        "result = linear_search(arr, target)\n",
        "print(result)"
      ],
      "metadata": {
        "colab": {
          "base_uri": "https://localhost:8080/"
        },
        "id": "tn9Z7K1BNir3",
        "outputId": "6be6f2dc-797e-42a7-ae6a-608f0a2feb0a"
      },
      "execution_count": 30,
      "outputs": [
        {
          "output_type": "stream",
          "name": "stdout",
          "text": [
            "3\n"
          ]
        }
      ]
    }
  ]
}